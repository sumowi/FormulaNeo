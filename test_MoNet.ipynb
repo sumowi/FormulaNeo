{
 "cells": [
  {
   "cell_type": "markdown",
   "metadata": {},
   "source": [
    "普通方法"
   ]
  },
  {
   "cell_type": "code",
   "execution_count": 2,
   "metadata": {},
   "outputs": [
    {
     "data": {
      "text/plain": [
       "tensor([-0.0106], grad_fn=<SqueezeBackward4>)"
      ]
     },
     "execution_count": 2,
     "metadata": {},
     "output_type": "execute_result"
    }
   ],
   "source": [
    "import torch\n",
    "\n",
    "x = torch.tensor([1,2,3]).float()\n",
    "A=torch.nn.Linear(3, 5)._parameters['weight']\n",
    "B=torch.nn.Linear(5, 5)._parameters['weight']\n",
    "C=torch.nn.Linear(5, 1)._parameters['weight']\n",
    "\n",
    "x.matmul(A.T).matmul(B.T).matmul(C.T)"
   ]
  },
  {
   "cell_type": "markdown",
   "metadata": {},
   "source": [
    "权重运算符重载"
   ]
  },
  {
   "cell_type": "code",
   "execution_count": 152,
   "metadata": {},
   "outputs": [],
   "source": [
    "class NetMat():\n",
    "    def __init__(self,Weight=None,Moudle=None):\n",
    "        if Weight !=None:\n",
    "            self.weight=Weight\n",
    "        elif Moudle !=None:\n",
    "            self.weight=Moudle._parameters['weight'].T\n",
    "        else:\n",
    "            raise Exception('No Weight or Moudle')\n",
    "        \n",
    "    def __mul__(self, other):\n",
    "        res = self.weight.matmul(other.weight)\n",
    "        return NetMat(Weight=res)\n",
    "    \n",
    "    def __repr__(self) -> str:\n",
    "        return f'NetMat(Weight={self.weight})'\n",
    "\n",
    "x = torch.tensor([1,2,3]).float()\n",
    "A=NetMat(Moudle=torch.nn.Linear(3, 5))\n",
    "B=NetMat(Moudle=torch.nn.Linear(5, 5))\n",
    "C=NetMat(Moudle=torch.nn.Linear(5, 1))"
   ]
  },
  {
   "cell_type": "code",
   "execution_count": 153,
   "metadata": {},
   "outputs": [
    {
     "data": {
      "text/plain": [
       "NetMat(Weight=tensor([[-0.0668],\n",
       "        [ 0.0700],\n",
       "        [ 0.0368]], grad_fn=<MmBackward0>))"
      ]
     },
     "execution_count": 153,
     "metadata": {},
     "output_type": "execute_result"
    }
   ],
   "source": [
    "A*B*C"
   ]
  },
  {
   "cell_type": "code",
   "execution_count": 154,
   "metadata": {},
   "outputs": [
    {
     "data": {
      "text/plain": [
       "tensor([0.1836], grad_fn=<SqueezeBackward4>)"
      ]
     },
     "execution_count": 154,
     "metadata": {},
     "output_type": "execute_result"
    }
   ],
   "source": [
    "x.matmul((A*B*C).weight)"
   ]
  },
  {
   "cell_type": "markdown",
   "metadata": {},
   "source": [
    "网络运算符重载"
   ]
  },
  {
   "cell_type": "code",
   "execution_count": 2,
   "metadata": {},
   "outputs": [
    {
     "name": "stdout",
     "output_type": "stream",
     "text": [
      "Layer(\n",
      "  (Net): Linear(in_features=10, out_features=1, bias=True)\n",
      ")\n"
     ]
    },
    {
     "data": {
      "text/plain": [
       "(tensor([[0.5537],\n",
       "         [0.1506]], grad_fn=<AddmmBackward0>),\n",
       " Layer(\n",
       "   (Net): Linear(in_features=5, out_features=1, bias=True)\n",
       " ))"
      ]
     },
     "execution_count": 2,
     "metadata": {},
     "output_type": "execute_result"
    }
   ],
   "source": [
    "from monet import *\n",
    "F=Layer()\n",
    "print(F)\n",
    "F(torch.randn(2,5)),F"
   ]
  },
  {
   "cell_type": "code",
   "execution_count": 1,
   "metadata": {},
   "outputs": [
    {
     "name": "stdout",
     "output_type": "stream",
     "text": [
      "MoNet(\n",
      "  (Net): Sequential(\n",
      "    (0): SeqLayer(\n",
      "      (Net): Sequential(\n",
      "        (fc_1_0): Linear(in_features=10, out_features=64, bias=True)\n",
      "        (fc_1_1): Linear(in_features=64, out_features=64, bias=True)\n",
      "      )\n",
      "    )\n",
      "    (1): Layer(\n",
      "      (Net): Linear(in_features=0, out_features=1, bias=True)\n",
      "    )\n",
      "  )\n",
      ")\n"
     ]
    },
    {
     "name": "stderr",
     "output_type": "stream",
     "text": [
      "d:\\Code\\Skorch\\.venv\\lib\\site-packages\\torch\\nn\\init.py:412: UserWarning: Initializing zero-element tensors is a no-op\n",
      "  warnings.warn(\"Initializing zero-element tensors is a no-op\")\n"
     ]
    },
    {
     "data": {
      "text/plain": [
       "(tensor([[-0.2604],\n",
       "         [ 0.0899]], grad_fn=<AddmmBackward0>),\n",
       " MoNet(\n",
       "   (Net): Sequential(\n",
       "     (0): SeqLayer(\n",
       "       (Net): Sequential(\n",
       "         (fc_1_0): Linear(in_features=5, out_features=64, bias=True)\n",
       "         (fc_1_1): Linear(in_features=64, out_features=64, bias=True)\n",
       "       )\n",
       "     )\n",
       "     (1): Layer(\n",
       "       (Net): Linear(in_features=64, out_features=1, bias=True)\n",
       "     )\n",
       "   )\n",
       " ))"
      ]
     },
     "execution_count": 1,
     "metadata": {},
     "output_type": "execute_result"
    }
   ],
   "source": [
    "from monet import *\n",
    "F=SeqLayer()*Layer(0,1)\n",
    "print(F)\n",
    "F(torch.randn(2,5)),F"
   ]
  },
  {
   "cell_type": "code",
   "execution_count": 1,
   "metadata": {},
   "outputs": [
    {
     "name": "stdout",
     "output_type": "stream",
     "text": [
      "MoNet(\n",
      "  (Net): Sequential(\n",
      "    (0): Cell(\n",
      "      (Net): Sequential(\n",
      "        (0:fc): Linear(in_features=10, out_features=1, bias=True)\n",
      "        (1:bn): BatchNorm1d(1, eps=1e-05, momentum=0.1, affine=True, track_running_stats=True)\n",
      "        (2:act): PReLU(num_parameters=1)\n",
      "        (3:dp): Dropout(p=0.5, inplace=False)\n",
      "      )\n",
      "    )\n",
      "    (1): Layer(\n",
      "      (Net): Linear(in_features=0, out_features=1, bias=True)\n",
      "    )\n",
      "  )\n",
      ")\n"
     ]
    },
    {
     "name": "stderr",
     "output_type": "stream",
     "text": [
      "d:\\Code\\Skorch\\.venv\\lib\\site-packages\\torch\\nn\\init.py:412: UserWarning: Initializing zero-element tensors is a no-op\n",
      "  warnings.warn(\"Initializing zero-element tensors is a no-op\")\n"
     ]
    },
    {
     "data": {
      "text/plain": [
       "(tensor([[-0.6335],\n",
       "         [-0.6335]], grad_fn=<AddmmBackward0>),\n",
       " MoNet(\n",
       "   (Net): Sequential(\n",
       "     (0): Cell(\n",
       "       (Net): Sequential(\n",
       "         (0:fc): Linear(in_features=5, out_features=1, bias=True)\n",
       "         (1:bn): BatchNorm1d(1, eps=1e-05, momentum=0.1, affine=True, track_running_stats=True)\n",
       "         (2:act): PReLU(num_parameters=1)\n",
       "         (3:dp): Dropout(p=0.5, inplace=False)\n",
       "       )\n",
       "     )\n",
       "     (1): Layer(\n",
       "       (Net): Linear(in_features=1, out_features=1, bias=True)\n",
       "     )\n",
       "   )\n",
       " ))"
      ]
     },
     "execution_count": 1,
     "metadata": {},
     "output_type": "execute_result"
    }
   ],
   "source": [
    "from monet import *\n",
    "F=Cell()*Layer(0,1)\n",
    "print(F)\n",
    "F(torch.randn(2,5)),F"
   ]
  },
  {
   "cell_type": "code",
   "execution_count": 2,
   "metadata": {},
   "outputs": [
    {
     "name": "stdout",
     "output_type": "stream",
     "text": [
      "MoNet(\n",
      "  (Net): Sequential(\n",
      "    (0): SeqCell(\n",
      "      (Net): Sequential(\n",
      "        (cell-0): Sequential(\n",
      "          (0:fc): Linear(in_features=10, out_features=10, bias=True)\n",
      "          (1:bn): BatchNorm1d(10, eps=1e-05, momentum=0.1, affine=True, track_running_stats=True)\n",
      "          (2:act): PReLU(num_parameters=1)\n",
      "          (3:dp): Dropout(p=0.5, inplace=False)\n",
      "        )\n",
      "        (cell-1): Sequential(\n",
      "          (0:fc): Linear(in_features=10, out_features=1, bias=True)\n",
      "          (1:bn): BatchNorm1d(1, eps=1e-05, momentum=0.1, affine=True, track_running_stats=True)\n",
      "          (2:act): PReLU(num_parameters=1)\n",
      "          (3:dp): Dropout(p=0.5, inplace=False)\n",
      "        )\n",
      "      )\n",
      "    )\n",
      "    (1): Layer(\n",
      "      (Net): Linear(in_features=0, out_features=1, bias=True)\n",
      "    )\n",
      "  )\n",
      ")\n"
     ]
    },
    {
     "data": {
      "text/plain": [
       "(tensor([[-0.1811],\n",
       "         [-0.1811]], grad_fn=<AddmmBackward0>),\n",
       " MoNet(\n",
       "   (Net): Sequential(\n",
       "     (0): SeqCell(\n",
       "       (Net): Sequential(\n",
       "         (cell-0): Sequential(\n",
       "           (0:fc): Linear(in_features=5, out_features=10, bias=True)\n",
       "           (1:bn): BatchNorm1d(10, eps=1e-05, momentum=0.1, affine=True, track_running_stats=True)\n",
       "           (2:act): PReLU(num_parameters=1)\n",
       "           (3:dp): Dropout(p=0.5, inplace=False)\n",
       "         )\n",
       "         (cell-1): Sequential(\n",
       "           (0:fc): Linear(in_features=10, out_features=1, bias=True)\n",
       "           (1:bn): BatchNorm1d(1, eps=1e-05, momentum=0.1, affine=True, track_running_stats=True)\n",
       "           (2:act): PReLU(num_parameters=1)\n",
       "           (3:dp): Dropout(p=0.5, inplace=False)\n",
       "         )\n",
       "       )\n",
       "     )\n",
       "     (1): Layer(\n",
       "       (Net): Linear(in_features=1, out_features=1, bias=True)\n",
       "     )\n",
       "   )\n",
       " ))"
      ]
     },
     "execution_count": 2,
     "metadata": {},
     "output_type": "execute_result"
    }
   ],
   "source": [
    "from monet import *\n",
    "F=SeqCell()*Layer(0,1)\n",
    "print(F)\n",
    "F(torch.randn(2,5)),F"
   ]
  },
  {
   "cell_type": "code",
   "execution_count": 1,
   "metadata": {},
   "outputs": [
    {
     "name": "stdout",
     "output_type": "stream",
     "text": [
      "MoNet(\n",
      "  (Net): Sequential(\n",
      "    (0): Mix(\n",
      "      (Net): Sequential(\n",
      "        (0:input): Layer(\n",
      "          (Net): Dropout(p=0.2, inplace=False)\n",
      "        )\n",
      "        (1:hiddens): SeqCell(\n",
      "          (Net): Sequential(\n",
      "            (cell-0): Sequential(\n",
      "              (0:fc): Linear(in_features=10, out_features=32, bias=True)\n",
      "              (1:bn): BatchNorm1d(32, eps=1e-05, momentum=0.1, affine=True, track_running_stats=True)\n",
      "              (2:act): PReLU(num_parameters=1)\n",
      "              (3:dp): Dropout(p=0.5, inplace=False)\n",
      "            )\n",
      "            (cell-1): Sequential(\n",
      "              (0:fc): Linear(in_features=32, out_features=32, bias=True)\n",
      "              (1:bn): BatchNorm1d(32, eps=1e-05, momentum=0.1, affine=True, track_running_stats=True)\n",
      "              (2:act): PReLU(num_parameters=1)\n",
      "              (3:dp): Dropout(p=0.5, inplace=False)\n",
      "            )\n",
      "          )\n",
      "        )\n",
      "        (2:output): Layer(\n",
      "          (Net): Linear(in_features=32, out_features=1, bias=True)\n",
      "        )\n",
      "      )\n",
      "    )\n",
      "    (1): Layer(\n",
      "      (Net): Linear(in_features=1, out_features=1, bias=True)\n",
      "    )\n",
      "  )\n",
      ")\n"
     ]
    },
    {
     "data": {
      "text/plain": [
       "(tensor([[-0.7559],\n",
       "         [-0.7585]], grad_fn=<AddmmBackward0>),\n",
       " MoNet(\n",
       "   (Net): Sequential(\n",
       "     (0): Mix(\n",
       "       (Net): Sequential(\n",
       "         (0:input): Layer(\n",
       "           (Net): Dropout(p=0.2, inplace=False)\n",
       "         )\n",
       "         (1:hiddens): SeqCell(\n",
       "           (Net): Sequential(\n",
       "             (cell-0): Sequential(\n",
       "               (0:fc): Linear(in_features=5, out_features=32, bias=True)\n",
       "               (1:bn): BatchNorm1d(32, eps=1e-05, momentum=0.1, affine=True, track_running_stats=True)\n",
       "               (2:act): PReLU(num_parameters=1)\n",
       "               (3:dp): Dropout(p=0.5, inplace=False)\n",
       "             )\n",
       "             (cell-1): Sequential(\n",
       "               (0:fc): Linear(in_features=32, out_features=32, bias=True)\n",
       "               (1:bn): BatchNorm1d(32, eps=1e-05, momentum=0.1, affine=True, track_running_stats=True)\n",
       "               (2:act): PReLU(num_parameters=1)\n",
       "               (3:dp): Dropout(p=0.5, inplace=False)\n",
       "             )\n",
       "           )\n",
       "         )\n",
       "         (2:output): Layer(\n",
       "           (Net): Linear(in_features=32, out_features=1, bias=True)\n",
       "         )\n",
       "       )\n",
       "     )\n",
       "     (1): Layer(\n",
       "       (Net): Linear(in_features=1, out_features=1, bias=True)\n",
       "     )\n",
       "   )\n",
       " ))"
      ]
     },
     "execution_count": 1,
     "metadata": {},
     "output_type": "execute_result"
    }
   ],
   "source": [
    "from monet import *\n",
    "F=Mix()*Layer(1,1)\n",
    "print(F)\n",
    "F(torch.randn(2,5)),F"
   ]
  },
  {
   "cell_type": "code",
   "execution_count": 1,
   "metadata": {},
   "outputs": [
    {
     "name": "stdout",
     "output_type": "stream",
     "text": [
      "Net(\n",
      "  (cnn_img): Sequential(\n",
      "    (0:input): SeqCell(\n",
      "      (Net): Sequential(\n",
      "        (cell-0): Sequential(\n",
      "          (0:cv): Conv2d(0, 16, kernel_size=(3, 3), stride=(1, 1))\n",
      "          (1:bn): BatchNorm2d(16, eps=1e-05, momentum=0.1, affine=True, track_running_stats=True)\n",
      "          (2:mp): MaxPool2d(kernel_size=2, stride=2, padding=0, dilation=1, ceil_mode=False)\n",
      "          (3:act): PReLU(num_parameters=1)\n",
      "        )\n",
      "        (cell-1): Sequential(\n",
      "          (0:cv): Conv2d(16, 32, kernel_size=(3, 3), stride=(1, 1))\n",
      "          (1:bn): BatchNorm2d(32, eps=1e-05, momentum=0.1, affine=True, track_running_stats=True)\n",
      "          (2:mp): MaxPool2d(kernel_size=2, stride=2, padding=0, dilation=1, ceil_mode=False)\n",
      "          (3:act): PReLU(num_parameters=1)\n",
      "        )\n",
      "      )\n",
      "    )\n",
      "    (1:output): Layer(\n",
      "      (Net): Flatten(start_dim=1, end_dim=-1)\n",
      "    )\n",
      "  )\n",
      "  (txt_fc): Sequential(\n",
      "    (0:input): SeqCell(\n",
      "      (Net): Sequential(\n",
      "        (cell-0): Sequential(\n",
      "          (0:fc): Linear(in_features=0, out_features=32, bias=True)\n",
      "          (1:bn): BatchNorm1d(32, eps=1e-05, momentum=0.1, affine=True, track_running_stats=True)\n",
      "          (2:act): PReLU(num_parameters=1)\n",
      "          (3:dp): Dropout(p=0.5, inplace=False)\n",
      "        )\n",
      "        (cell-1): Sequential(\n",
      "          (0:fc): Linear(in_features=32, out_features=64, bias=True)\n",
      "          (1:bn): BatchNorm1d(64, eps=1e-05, momentum=0.1, affine=True, track_running_stats=True)\n",
      "          (2:act): PReLU(num_parameters=1)\n",
      "          (3:dp): Dropout(p=0.5, inplace=False)\n",
      "        )\n",
      "      )\n",
      "    )\n",
      "  )\n",
      "  (out_mlp): Sequential(\n",
      "    (0:input): Layer(\n",
      "      (Net): Linear(in_features=0, out_features=1, bias=True)\n",
      "    )\n",
      "  )\n",
      ")\n"
     ]
    },
    {
     "name": "stderr",
     "output_type": "stream",
     "text": [
      "d:\\Code\\Skorch\\.venv\\lib\\site-packages\\torch\\nn\\init.py:412: UserWarning: Initializing zero-element tensors is a no-op\n",
      "  warnings.warn(\"Initializing zero-element tensors is a no-op\")\n"
     ]
    },
    {
     "data": {
      "text/plain": [
       "(tensor([[1.4184],\n",
       "         [0.5706]], grad_fn=<AddmmBackward0>),\n",
       " Net(\n",
       "   (cnn_img): Sequential(\n",
       "     (0:input): SeqCell(\n",
       "       (Net): Sequential(\n",
       "         (cell-0): Sequential(\n",
       "           (0:cv): Conv2d(1, 16, kernel_size=(3, 3), stride=(1, 1))\n",
       "           (1:bn): BatchNorm2d(16, eps=1e-05, momentum=0.1, affine=True, track_running_stats=True)\n",
       "           (2:mp): MaxPool2d(kernel_size=2, stride=2, padding=0, dilation=1, ceil_mode=False)\n",
       "           (3:act): PReLU(num_parameters=1)\n",
       "         )\n",
       "         (cell-1): Sequential(\n",
       "           (0:cv): Conv2d(16, 32, kernel_size=(3, 3), stride=(1, 1))\n",
       "           (1:bn): BatchNorm2d(32, eps=1e-05, momentum=0.1, affine=True, track_running_stats=True)\n",
       "           (2:mp): MaxPool2d(kernel_size=2, stride=2, padding=0, dilation=1, ceil_mode=False)\n",
       "           (3:act): PReLU(num_parameters=1)\n",
       "         )\n",
       "       )\n",
       "     )\n",
       "     (1:output): Layer(\n",
       "       (Net): Flatten(start_dim=1, end_dim=-1)\n",
       "     )\n",
       "   )\n",
       "   (txt_fc): Sequential(\n",
       "     (0:input): SeqCell(\n",
       "       (Net): Sequential(\n",
       "         (cell-0): Sequential(\n",
       "           (0:fc): Linear(in_features=10, out_features=32, bias=True)\n",
       "           (1:bn): BatchNorm1d(32, eps=1e-05, momentum=0.1, affine=True, track_running_stats=True)\n",
       "           (2:act): PReLU(num_parameters=1)\n",
       "           (3:dp): Dropout(p=0.5, inplace=False)\n",
       "         )\n",
       "         (cell-1): Sequential(\n",
       "           (0:fc): Linear(in_features=32, out_features=64, bias=True)\n",
       "           (1:bn): BatchNorm1d(64, eps=1e-05, momentum=0.1, affine=True, track_running_stats=True)\n",
       "           (2:act): PReLU(num_parameters=1)\n",
       "           (3:dp): Dropout(p=0.5, inplace=False)\n",
       "         )\n",
       "       )\n",
       "     )\n",
       "   )\n",
       "   (out_mlp): Sequential(\n",
       "     (0:input): Layer(\n",
       "       (Net): Linear(in_features=6336, out_features=1, bias=True)\n",
       "     )\n",
       "   )\n",
       " ))"
      ]
     },
     "execution_count": 1,
     "metadata": {},
     "output_type": "execute_result"
    }
   ],
   "source": [
    "from monet import *\n",
    "class Net(nn.Module):\n",
    "    def __init__(self):\n",
    "        super(Net, self).__init__()\n",
    "        self.cnn_img=Mix(0,[[16,32],1],[['cv2','bn2','mp2','act'],'fl']).Net\n",
    "        self.txt_fc=Mix(0,[[32,64]],[['fc','bn','act','dp']]).Net\n",
    "        self.out_mlp=Mix(0,[1],['fc']).Net\n",
    "\n",
    "    def forward(self, img, x):\n",
    "        y1=self.cnn_img(img)\n",
    "        y2=self.txt_fc(x)\n",
    "        y3=torch.cat([y1,y2],dim=1)\n",
    "        y=self.out_mlp(y3)\n",
    "        return y\n",
    "F=Net()\n",
    "print(F)\n",
    "F(torch.randn(2,1,64,64),torch.randn(2,10)),F"
   ]
  },
  {
   "cell_type": "code",
   "execution_count": 2,
   "metadata": {},
   "outputs": [
    {
     "data": {
      "text/plain": [
       "Net(\n",
       "  (fc1): Layer(\n",
       "    (Net): Linear(in_features=10, out_features=20, bias=True)\n",
       "  )\n",
       "  (fc2): Layer(\n",
       "    (Net): Linear(in_features=20, out_features=1, bias=True)\n",
       "  )\n",
       ")"
      ]
     },
     "execution_count": 2,
     "metadata": {},
     "output_type": "execute_result"
    }
   ],
   "source": [
    "from monet import *\n",
    "class Net(nn.Module):\n",
    "    def __init__(self):\n",
    "        super(Net, self).__init__()\n",
    "        self.fc1 = Layer(10, 20, 'fc')\n",
    "        self.fc2 = Layer(20, 1, 'fc')\n",
    "\n",
    "    def forward(self, x):\n",
    "        x = self.fc1(x)\n",
    "        x = self.fc2(x)\n",
    "        return x\n",
    "\n",
    "Net()"
   ]
  },
  {
   "cell_type": "code",
   "execution_count": 4,
   "metadata": {},
   "outputs": [
    {
     "name": "stdout",
     "output_type": "stream",
     "text": [
      "Cell(\n",
      "  (Net): Sequential(\n",
      "    (0:fc): Linear(in_features=10, out_features=1, bias=True)\n",
      "    (1:bn): BatchNorm1d(1, eps=1e-05, momentum=0.1, affine=True, track_running_stats=True)\n",
      "    (2:act): PReLU(num_parameters=1)\n",
      "    (3:dp): Dropout(p=0.5, inplace=False)\n",
      "  )\n",
      ")\n",
      "tensor([[0.],\n",
      "        [-0.]], grad_fn=<MulBackward0>)\n",
      "Cell(\n",
      "  (Net): Sequential(\n",
      "    (0:fc): Linear(in_features=2, out_features=1, bias=True)\n",
      "    (1:bn): BatchNorm1d(1, eps=1e-05, momentum=0.1, affine=True, track_running_stats=True)\n",
      "    (2:act): PReLU(num_parameters=1)\n",
      "    (3:dp): Dropout(p=0.5, inplace=False)\n",
      "  )\n",
      ")\n"
     ]
    }
   ],
   "source": [
    "A = Cell()\n",
    "print(A)\n",
    "q=A(torch.tensor([[0.0,0.0],[1.0,1.0]]))\n",
    "print(q)\n",
    "print(A)"
   ]
  },
  {
   "cell_type": "code",
   "execution_count": 5,
   "metadata": {},
   "outputs": [
    {
     "name": "stdout",
     "output_type": "stream",
     "text": [
      "MoNet(\n",
      "  (Net): Sequential(\n",
      "    (0): Layer(\n",
      "      (Net): Linear(in_features=1, out_features=10, bias=True)\n",
      "    )\n",
      "    (1): Cell(\n",
      "      (Net): Sequential(\n",
      "        (0:fc): Linear(in_features=10, out_features=10, bias=True)\n",
      "        (1:bn): BatchNorm1d(10, eps=1e-05, momentum=0.1, affine=True, track_running_stats=True)\n",
      "        (2:act): PReLU(num_parameters=1)\n",
      "        (3:dp): Dropout(p=0.5, inplace=False)\n",
      "      )\n",
      "    )\n",
      "    (2): Layer(\n",
      "      (Net): Linear(in_features=10, out_features=1, bias=True)\n",
      "    )\n",
      "  )\n",
      ")\n"
     ]
    },
    {
     "data": {
      "text/plain": [
       "tensor([[0.2051],\n",
       "        [0.9309]], grad_fn=<AddmmBackward0>)"
      ]
     },
     "execution_count": 5,
     "metadata": {},
     "output_type": "execute_result"
    }
   ],
   "source": [
    "import torch\n",
    "from MoNet.monet import Cell, Layer\n",
    "\n",
    "F=Layer(1,10)*Cell(10,10)*Layer(10,1)\n",
    "print(F)\n",
    "F(torch.tensor([[0.0],\n",
    "                [1.0]]))"
   ]
  },
  {
   "cell_type": "code",
   "execution_count": 6,
   "metadata": {},
   "outputs": [
    {
     "data": {
      "text/plain": [
       "tensor([[True]])"
      ]
     },
     "execution_count": 6,
     "metadata": {},
     "output_type": "execute_result"
    }
   ],
   "source": [
    "from monet import *\n",
    "\n",
    "Fc=Cell(1,5,['fc','act'])\n",
    "Hid1=Cell(5,1,['fc','act'])\n",
    "Hid2=Cell(5,1,['fc','act'])\n",
    "Out = Layer(2,1,'fc')\n",
    "\n",
    "x=torch.tensor([[0.0]])\n",
    "F1=(Fc*Hid1+Fc*Hid2)*Out\n",
    "F2=Fc*(Hid1+Hid2)*Out\n",
    "F1(x)==F2(x)"
   ]
  },
  {
   "cell_type": "code",
   "execution_count": 7,
   "metadata": {},
   "outputs": [
    {
     "data": {
      "text/plain": [
       "MoNet(\n",
       "  (Net): Sequential(\n",
       "    (0): Linear(in_features=10, out_features=1, bias=True)\n",
       "    (1): BatchNorm1d(1, eps=1e-05, momentum=0.1, affine=True, track_running_stats=True)\n",
       "    (2): PReLU(num_parameters=1)\n",
       "    (3): Dropout(p=0.5, inplace=False)\n",
       "    (4): Linear(in_features=10, out_features=1, bias=True)\n",
       "    (5): BatchNorm1d(1, eps=1e-05, momentum=0.1, affine=True, track_running_stats=True)\n",
       "    (6): PReLU(num_parameters=1)\n",
       "    (7): Dropout(p=0.5, inplace=False)\n",
       "  )\n",
       ")"
      ]
     },
     "execution_count": 7,
     "metadata": {},
     "output_type": "execute_result"
    }
   ],
   "source": [
    "from monet import *\n",
    "cell()*cell()"
   ]
  },
  {
   "cell_type": "code",
   "execution_count": 11,
   "metadata": {},
   "outputs": [
    {
     "data": {
      "text/plain": [
       "Mix(\n",
       "  (Net): Sequential(\n",
       "    (0:input): Layer(\n",
       "      (Net): Dropout(p=0.2, inplace=False)\n",
       "    )\n",
       "    (1:hiddens): SeqCell(\n",
       "      (Net): Sequential(\n",
       "        (cell-0): Sequential(\n",
       "          (0:fc): Linear(in_features=10, out_features=32, bias=True)\n",
       "          (1:bn): BatchNorm1d(32, eps=1e-05, momentum=0.1, affine=True, track_running_stats=True)\n",
       "          (2:act): PReLU(num_parameters=1)\n",
       "          (3:dp): Dropout(p=0.5, inplace=False)\n",
       "        )\n",
       "        (cell-1): Sequential(\n",
       "          (0:fc): Linear(in_features=32, out_features=32, bias=True)\n",
       "          (1:bn): BatchNorm1d(32, eps=1e-05, momentum=0.1, affine=True, track_running_stats=True)\n",
       "          (2:act): PReLU(num_parameters=1)\n",
       "          (3:dp): Dropout(p=0.5, inplace=False)\n",
       "        )\n",
       "      )\n",
       "    )\n",
       "    (2:output): Layer(\n",
       "      (Net): Linear(in_features=32, out_features=1, bias=True)\n",
       "    )\n",
       "  )\n",
       ")"
      ]
     },
     "execution_count": 11,
     "metadata": {},
     "output_type": "execute_result"
    }
   ],
   "source": [
    "Mix()"
   ]
  },
  {
   "cell_type": "code",
   "execution_count": 12,
   "metadata": {},
   "outputs": [
    {
     "data": {
      "text/plain": [
       "Mix(\n",
       "  (Net): Sequential(\n",
       "    (0:input): Layer(\n",
       "      (Net): Linear(in_features=2, out_features=10, bias=True)\n",
       "    )\n",
       "    (1:hiddens): Layer(\n",
       "      (Net): BatchNorm1d(10, eps=1e-05, momentum=0.1, affine=True, track_running_stats=True)\n",
       "    )\n",
       "    (2:hiddens): Layer(\n",
       "      (Net): PReLU(num_parameters=1)\n",
       "    )\n",
       "    (3:output): Layer(\n",
       "      (Net): Flatten(start_dim=1, end_dim=-1)\n",
       "    )\n",
       "  )\n",
       ")"
      ]
     },
     "execution_count": 12,
     "metadata": {},
     "output_type": "execute_result"
    }
   ],
   "source": [
    "from monet import *\n",
    "Mix(2,[10,10,10,10],['fc','bn','act','fl'])"
   ]
  },
  {
   "cell_type": "code",
   "execution_count": 14,
   "metadata": {},
   "outputs": [
    {
     "data": {
      "text/plain": [
       "Mix(\n",
       "  (Net): Sequential(\n",
       "    (0:input): SeqCell(\n",
       "      (Net): Sequential(\n",
       "        (cell-0): Sequential(\n",
       "          (0:cv): Conv2d(2, 10, kernel_size=(3, 3), stride=(1, 1))\n",
       "          (1:bn): BatchNorm2d(10, eps=1e-05, momentum=0.1, affine=True, track_running_stats=True)\n",
       "          (2:act): PReLU(num_parameters=1)\n",
       "        )\n",
       "        (cell-1): Sequential(\n",
       "          (0:cv): Conv2d(10, 20, kernel_size=(3, 3), stride=(1, 1))\n",
       "          (1:bn): BatchNorm2d(20, eps=1e-05, momentum=0.1, affine=True, track_running_stats=True)\n",
       "          (2:act): PReLU(num_parameters=1)\n",
       "        )\n",
       "      )\n",
       "    )\n",
       "    (1:output): Layer(\n",
       "      (Net): Flatten(start_dim=1, end_dim=-1)\n",
       "    )\n",
       "  )\n",
       ")"
      ]
     },
     "execution_count": 14,
     "metadata": {},
     "output_type": "execute_result"
    }
   ],
   "source": [
    "Mix(0,[[10,20],0],[['cv2','bn2','act'],'fl']).set_i(1,2,8,8)"
   ]
  },
  {
   "cell_type": "code",
   "execution_count": 1,
   "metadata": {},
   "outputs": [
    {
     "name": "stderr",
     "output_type": "stream",
     "text": [
      "d:\\Code\\Skorch\\.venv\\lib\\site-packages\\torch\\nn\\init.py:412: UserWarning: Initializing zero-element tensors is a no-op\n",
      "  warnings.warn(\"Initializing zero-element tensors is a no-op\")\n"
     ]
    },
    {
     "data": {
      "text/plain": [
       "MoNet(\n",
       "  (Net): Sequential(\n",
       "    (0): Mix(\n",
       "      (Net): Sequential(\n",
       "        (0:input): SeqCell(\n",
       "          (Net): Sequential(\n",
       "            (cell-0): Sequential(\n",
       "              (0:cv): Conv2d(2, 10, kernel_size=(3, 3), stride=(1, 1))\n",
       "              (1:bn): BatchNorm2d(10, eps=1e-05, momentum=0.1, affine=True, track_running_stats=True)\n",
       "              (2:act): PReLU(num_parameters=1)\n",
       "            )\n",
       "            (cell-1): Sequential(\n",
       "              (0:cv): Conv2d(10, 20, kernel_size=(3, 3), stride=(1, 1))\n",
       "              (1:bn): BatchNorm2d(20, eps=1e-05, momentum=0.1, affine=True, track_running_stats=True)\n",
       "              (2:act): PReLU(num_parameters=1)\n",
       "            )\n",
       "          )\n",
       "        )\n",
       "        (1:output): Layer(\n",
       "          (Net): Flatten(start_dim=1, end_dim=-1)\n",
       "        )\n",
       "      )\n",
       "    )\n",
       "    (1): Mix(\n",
       "      (Net): Sequential(\n",
       "        (0:input): Cell(\n",
       "          (Net): Sequential(\n",
       "            (0:fc): Linear(in_features=320, out_features=10, bias=True)\n",
       "            (1:act): PReLU(num_parameters=1)\n",
       "            (2:fl): Flatten(start_dim=1, end_dim=-1)\n",
       "          )\n",
       "        )\n",
       "      )\n",
       "    )\n",
       "    (2): Mix(\n",
       "      (Net): Sequential(\n",
       "        (0:input): Cell(\n",
       "          (Net): Sequential(\n",
       "            (0:fc): Linear(in_features=10, out_features=10, bias=True)\n",
       "            (1:act): PReLU(num_parameters=1)\n",
       "          )\n",
       "        )\n",
       "      )\n",
       "    )\n",
       "  )\n",
       ")"
      ]
     },
     "execution_count": 1,
     "metadata": {},
     "output_type": "execute_result"
    }
   ],
   "source": [
    "from monet import *\n",
    "B=((Mix(0,[[10,20],0],[['cv2','bn2','act'],'fl'])*\n",
    "   Mix(0,[10],[['fc','act','fl']]))*\n",
    "   Mix(0,[10],[['fc','act']])).set_i((1,2,8,8))\n",
    "B"
   ]
  },
  {
   "cell_type": "code",
   "execution_count": 2,
   "metadata": {},
   "outputs": [
    {
     "data": {
      "text/plain": [
       "Layer(\n",
       "  (Net): Conv2d(2, 1, kernel_size=(3, 3), stride=(1, 1))\n",
       ")"
      ]
     },
     "execution_count": 2,
     "metadata": {},
     "output_type": "execute_result"
    }
   ],
   "source": [
    "from monet import *\n",
    "A=Layer(net='cv').set_i(1,2,3,3)\n",
    "A"
   ]
  },
  {
   "cell_type": "code",
   "execution_count": 1,
   "metadata": {},
   "outputs": [
    {
     "data": {
      "text/plain": [
       "MoNet(\n",
       "  (Net): Linear(in_features=2, out_features=10, bias=True)\n",
       ")"
      ]
     },
     "execution_count": 1,
     "metadata": {},
     "output_type": "execute_result"
    }
   ],
   "source": [
    "from monet import *\n",
    "A=MoNet(nn.Linear(10,10))\n",
    "A.set_i(2)"
   ]
  },
  {
   "cell_type": "code",
   "execution_count": 10,
   "metadata": {},
   "outputs": [
    {
     "data": {
      "text/plain": [
       "(3077652475968, 3077652479280)"
      ]
     },
     "execution_count": 10,
     "metadata": {},
     "output_type": "execute_result"
    }
   ],
   "source": [
    "A=layer()\n",
    "A2=layer()\n",
    "id(A),id(A2)"
   ]
  },
  {
   "cell_type": "code",
   "execution_count": 11,
   "metadata": {},
   "outputs": [
    {
     "data": {
      "text/plain": [
       "(3077652475968, 3077652475968, 3077652475968)"
      ]
     },
     "execution_count": 11,
     "metadata": {},
     "output_type": "execute_result"
    }
   ],
   "source": [
    "id((A*1)),id((A*2).Net[0]),id((A*2).Net[1]) # 浅拷贝"
   ]
  },
  {
   "cell_type": "code",
   "execution_count": 12,
   "metadata": {},
   "outputs": [
    {
     "data": {
      "text/plain": [
       "(3077652475968, 3077652475968, 3077652479280)"
      ]
     },
     "execution_count": 12,
     "metadata": {},
     "output_type": "execute_result"
    }
   ],
   "source": [
    "B=A*A*A2  # 浅拷贝\n",
    "id(B.Net[0]),id(B.Net[1]),id(B.Net[2])"
   ]
  },
  {
   "cell_type": "code",
   "execution_count": 13,
   "metadata": {},
   "outputs": [
    {
     "data": {
      "text/plain": [
       "(3077652472080, 3077652473616, 3077652472080)"
      ]
     },
     "execution_count": 13,
     "metadata": {},
     "output_type": "execute_result"
    }
   ],
   "source": [
    "id((A**1)),id((A**2).Net[0]),id((A**2).Net[1]) # 深拷贝"
   ]
  },
  {
   "cell_type": "code",
   "execution_count": 14,
   "metadata": {},
   "outputs": [
    {
     "data": {
      "text/plain": [
       "(3077652744368, 3077652745136, 3077652746000)"
      ]
     },
     "execution_count": 14,
     "metadata": {},
     "output_type": "execute_result"
    }
   ],
   "source": [
    "B=(A**A)**3  # 深拷贝\n",
    "id(B.Net[0].Net[0]),id(B.Net[1].Net[0]),id(B.Net[2].Net[0])"
   ]
  },
  {
   "cell_type": "code",
   "execution_count": 15,
   "metadata": {},
   "outputs": [
    {
     "data": {
      "text/plain": [
       "(3079367948560, 3077652475968, 3077652475968)"
      ]
     },
     "execution_count": 15,
     "metadata": {},
     "output_type": "execute_result"
    }
   ],
   "source": [
    "id((A+A)),id((A+A).Net[0]),id((A+A).Net[1]) # 浅拷贝"
   ]
  },
  {
   "cell_type": "code",
   "execution_count": 17,
   "metadata": {},
   "outputs": [
    {
     "data": {
      "text/plain": [
       "(3079366077712, 3077652744320, 3077652747920)"
      ]
     },
     "execution_count": 17,
     "metadata": {},
     "output_type": "execute_result"
    }
   ],
   "source": [
    "id((A&A)),id((A&A).Net[0]),id((A&A).Net[1]) # 深拷贝"
   ]
  },
  {
   "cell_type": "markdown",
   "metadata": {},
   "source": [
    "自适应调整输入形状\n",
    "- 设置输入维度为0，用set_i()或在首次forward时自适应调整顶层输入形状"
   ]
  },
  {
   "cell_type": "code",
   "execution_count": 1,
   "metadata": {},
   "outputs": [
    {
     "name": "stderr",
     "output_type": "stream",
     "text": [
      "d:\\Code\\Skorch\\.venv\\lib\\site-packages\\torch\\nn\\init.py:412: UserWarning: Initializing zero-element tensors is a no-op\n",
      "  warnings.warn(\"Initializing zero-element tensors is a no-op\")\n"
     ]
    },
    {
     "data": {
      "text/plain": [
       "(tensor([[-0.5330]], grad_fn=<AddmmBackward0>),\n",
       " MoNet(\n",
       "   (Net): Sequential(\n",
       "     (0): Cell(\n",
       "       (Net): Sequential(\n",
       "         (0:fc): Linear(in_features=1, out_features=10, bias=True)\n",
       "         (1:act): PReLU(num_parameters=1)\n",
       "         (2:fc): Linear(in_features=10, out_features=10, bias=True)\n",
       "         (3:act): PReLU(num_parameters=1)\n",
       "         (4:fc): Linear(in_features=10, out_features=10, bias=True)\n",
       "         (5:act): PReLU(num_parameters=1)\n",
       "       )\n",
       "     )\n",
       "     (1): MoNet(\n",
       "       (Net): Linear(in_features=10, out_features=1, bias=True)\n",
       "     )\n",
       "   )\n",
       " ))"
      ]
     },
     "execution_count": 1,
     "metadata": {},
     "output_type": "execute_result"
    }
   ],
   "source": [
    "from monet import *\n",
    "F=Cell(0,10,['fc','act','fc','act','fc','act'])*layer(0,1)\n",
    "F(torch.tensor([[0.0]])),F"
   ]
  },
  {
   "cell_type": "code",
   "execution_count": 2,
   "metadata": {},
   "outputs": [
    {
     "data": {
      "text/plain": [
       "(tensor([[-0.4637]], grad_fn=<AddmmBackward0>),\n",
       " MoNet(\n",
       "   (Net): Sequential(\n",
       "     (0): Cell(\n",
       "       (Net): Sequential(\n",
       "         (0:fc): Linear(in_features=2, out_features=10, bias=True)\n",
       "         (1:act): PReLU(num_parameters=1)\n",
       "         (2:fc): Linear(in_features=10, out_features=10, bias=True)\n",
       "         (3:act): PReLU(num_parameters=1)\n",
       "         (4:fc): Linear(in_features=10, out_features=10, bias=True)\n",
       "         (5:act): PReLU(num_parameters=1)\n",
       "       )\n",
       "     )\n",
       "     (1): MoNet(\n",
       "       (Net): Linear(in_features=10, out_features=1, bias=True)\n",
       "     )\n",
       "   )\n",
       " ))"
      ]
     },
     "execution_count": 2,
     "metadata": {},
     "output_type": "execute_result"
    }
   ],
   "source": [
    "F.set_i(2)(torch.tensor([[0.0,1.0]])),F"
   ]
  },
  {
   "cell_type": "code",
   "execution_count": 1,
   "metadata": {},
   "outputs": [
    {
     "name": "stderr",
     "output_type": "stream",
     "text": [
      "d:\\Code\\Skorch\\.venv\\lib\\site-packages\\torch\\nn\\init.py:412: UserWarning: Initializing zero-element tensors is a no-op\n",
      "  warnings.warn(\"Initializing zero-element tensors is a no-op\")\n"
     ]
    },
    {
     "data": {
      "text/plain": [
       "(tensor([[0.4370]], grad_fn=<AddmmBackward0>),\n",
       " MoNet(\n",
       "   (Net): Sequential(\n",
       "     (0): Cell(\n",
       "       (Net): Sequential(\n",
       "         (0:cv): Conv2d(2, 10, kernel_size=(3, 3), stride=(1, 1))\n",
       "         (1:fl): Flatten(start_dim=1, end_dim=-1)\n",
       "       )\n",
       "     )\n",
       "     (1): MoNet(\n",
       "       (Net): Linear(in_features=10, out_features=1, bias=True)\n",
       "     )\n",
       "   )\n",
       " ))"
      ]
     },
     "execution_count": 1,
     "metadata": {},
     "output_type": "execute_result"
    }
   ],
   "source": [
    "from monet import *\n",
    "F=Cell(2,10,['cv','fl'])*layer(0,1)\n",
    "F(torch.randn(1,2,3,3)),F"
   ]
  },
  {
   "cell_type": "code",
   "execution_count": 2,
   "metadata": {},
   "outputs": [
    {
     "data": {
      "text/plain": [
       "(tensor([[0.0472]], grad_fn=<AddmmBackward0>),\n",
       " MoNet(\n",
       "   (Net): Sequential(\n",
       "     (0): Cell(\n",
       "       (Net): Sequential(\n",
       "         (0:cv): Conv2d(3, 10, kernel_size=(3, 3), stride=(1, 1))\n",
       "         (1:fl): Flatten(start_dim=1, end_dim=-1)\n",
       "       )\n",
       "     )\n",
       "     (1): MoNet(\n",
       "       (Net): Linear(in_features=160, out_features=1, bias=True)\n",
       "     )\n",
       "   )\n",
       " ))"
      ]
     },
     "execution_count": 2,
     "metadata": {},
     "output_type": "execute_result"
    }
   ],
   "source": [
    "# set_i可强制改变输入层维度\n",
    "F.set_i(1,3,6,6)(torch.randn(1,3,6,6)),F"
   ]
  }
 ],
 "metadata": {
  "kernelspec": {
   "display_name": "Python 3",
   "language": "python",
   "name": "python3"
  },
  "language_info": {
   "codemirror_mode": {
    "name": "ipython",
    "version": 3
   },
   "file_extension": ".py",
   "mimetype": "text/x-python",
   "name": "python",
   "nbconvert_exporter": "python",
   "pygments_lexer": "ipython3",
   "version": "3.10.13"
  }
 },
 "nbformat": 4,
 "nbformat_minor": 2
}
