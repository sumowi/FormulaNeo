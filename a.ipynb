{
 "cells": [
  {
   "cell_type": "markdown",
   "metadata": {},
   "source": [
    "$Lenet_{32×32}^{1}=Cv2_{5}^6Sp2_{2}^6Cv2_{5}^{16}Sp2_{2}^{16}Fc_{}^{120}Fc_{}^{84}Gc_{}^{10}\\\\=(Cv2_{5}Sp2_{2})_{}^{[6,16]}Fc_{}^{[120,64]}Gc_{}^{10}\\\\=(Cv_{5}Sp_{2})2_{}^{[6,16]}Fc_{}^{[120,64]}Gc_{}^{10}\\\\=(Cv_{5}Sp_{2})_{}^{[6,16]}Fc_{}^{[120,64]}Gc_{}^{10}$"
   ]
  }
 ],
 "metadata": {
  "language_info": {
   "name": "python"
  }
 },
 "nbformat": 4,
 "nbformat_minor": 2
}
